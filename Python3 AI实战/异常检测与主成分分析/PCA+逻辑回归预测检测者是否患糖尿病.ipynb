{
 "cells": [
  {
   "cell_type": "code",
   "execution_count": 6,
   "metadata": {
    "collapsed": true
   },
   "outputs": [
    {
     "data": {
      "text/plain": "   pregnant  glucose  bp  skin  insulin   bmi  pedigree  age  label\n0         9      122  56     0        0  33.3     1.114   33      1\n1         2      112  66    22        0  25.0     0.307   24      0\n2         1      103  30    38       83  43.3     0.183   33      0\n3         1      138  82     0        0  40.1     0.236   28      0\n4         9       72  78    25        0  31.6     0.280   38      0",
      "text/html": "<div>\n<style scoped>\n    .dataframe tbody tr th:only-of-type {\n        vertical-align: middle;\n    }\n\n    .dataframe tbody tr th {\n        vertical-align: top;\n    }\n\n    .dataframe thead th {\n        text-align: right;\n    }\n</style>\n<table border=\"1\" class=\"dataframe\">\n  <thead>\n    <tr style=\"text-align: right;\">\n      <th></th>\n      <th>pregnant</th>\n      <th>glucose</th>\n      <th>bp</th>\n      <th>skin</th>\n      <th>insulin</th>\n      <th>bmi</th>\n      <th>pedigree</th>\n      <th>age</th>\n      <th>label</th>\n    </tr>\n  </thead>\n  <tbody>\n    <tr>\n      <th>0</th>\n      <td>9</td>\n      <td>122</td>\n      <td>56</td>\n      <td>0</td>\n      <td>0</td>\n      <td>33.3</td>\n      <td>1.114</td>\n      <td>33</td>\n      <td>1</td>\n    </tr>\n    <tr>\n      <th>1</th>\n      <td>2</td>\n      <td>112</td>\n      <td>66</td>\n      <td>22</td>\n      <td>0</td>\n      <td>25.0</td>\n      <td>0.307</td>\n      <td>24</td>\n      <td>0</td>\n    </tr>\n    <tr>\n      <th>2</th>\n      <td>1</td>\n      <td>103</td>\n      <td>30</td>\n      <td>38</td>\n      <td>83</td>\n      <td>43.3</td>\n      <td>0.183</td>\n      <td>33</td>\n      <td>0</td>\n    </tr>\n    <tr>\n      <th>3</th>\n      <td>1</td>\n      <td>138</td>\n      <td>82</td>\n      <td>0</td>\n      <td>0</td>\n      <td>40.1</td>\n      <td>0.236</td>\n      <td>28</td>\n      <td>0</td>\n    </tr>\n    <tr>\n      <th>4</th>\n      <td>9</td>\n      <td>72</td>\n      <td>78</td>\n      <td>25</td>\n      <td>0</td>\n      <td>31.6</td>\n      <td>0.280</td>\n      <td>38</td>\n      <td>0</td>\n    </tr>\n  </tbody>\n</table>\n</div>"
     },
     "execution_count": 6,
     "metadata": {},
     "output_type": "execute_result"
    }
   ],
   "source": [
    "import pandas as pd\n",
    "import numpy as np\n",
    "data = pd.read_csv(\"D:\\\\project\\\\Python3 AI实战\\\\异常检测与主成分分析\\\\task2_data.csv\")\n",
    "data.head()"
   ]
  },
  {
   "cell_type": "code",
   "execution_count": 7,
   "outputs": [
    {
     "data": {
      "text/plain": "0    1\n1    0\n2    0\n3    0\n4    0\nName: label, dtype: int64"
     },
     "execution_count": 7,
     "metadata": {},
     "output_type": "execute_result"
    }
   ],
   "source": [
    "# xy赋值\n",
    "x = data.drop(['label'],axis=1)\n",
    "y = data.loc[:,'label']\n",
    "x.head()\n",
    "y.head()\n"
   ],
   "metadata": {
    "collapsed": false,
    "pycharm": {
     "name": "#%%\n"
    }
   }
  },
  {
   "cell_type": "code",
   "execution_count": 8,
   "outputs": [
    {
     "name": "stdout",
     "output_type": "stream",
     "text": [
      "(600, 8) (600,)\n"
     ]
    }
   ],
   "source": [
    "print(x.shape,y.shape)"
   ],
   "metadata": {
    "collapsed": false,
    "pycharm": {
     "name": "#%%\n"
    }
   }
  },
  {
   "cell_type": "code",
   "execution_count": 10,
   "outputs": [
    {
     "data": {
      "text/plain": "LogisticRegression(max_iter=1000)"
     },
     "execution_count": 10,
     "metadata": {},
     "output_type": "execute_result"
    }
   ],
   "source": [
    "# 逻辑回归模型\n",
    "from sklearn.linear_model import LogisticRegression\n",
    "model1 = LogisticRegression(max_iter=1000)\n",
    "model1.fit(x,y)"
   ],
   "metadata": {
    "collapsed": false,
    "pycharm": {
     "name": "#%%\n"
    }
   }
  },
  {
   "cell_type": "code",
   "execution_count": 11,
   "outputs": [
    {
     "name": "stdout",
     "output_type": "stream",
     "text": [
      "[1 0 0 0 0 0 1 0 0 0 0 1 0 1 0 1 0 0 0 0 0 0 0 0 0 0 0 1 0 1 0 1 1 0 0 1 0\n",
      " 0 0 0 0 0 0 1 0 0 0 0 0 0 0 0 0 0 0 1 0 0 1 0 0 0 0 0 0 1 0 1 0 0 0 0 0 1\n",
      " 1 0 0 0 0 0 0 0 0 0 0 0 0 1 0 0 0 0 1 0 0 0 0 0 0 0 0 0 1 1 0 1 0 0 0 1 0\n",
      " 0 0 0 0 0 0 0 1 0 0 0 0 0 0 0 0 0 0 0 0 0 1 1 0 0 1 1 0 0 0 0 0 0 0 1 1 1\n",
      " 0 0 0 1 0 0 0 0 0 1 0 0 1 0 0 0 0 0 0 0 1 0 0 0 0 0 0 0 0 0 0 0 0 1 0 0 0\n",
      " 0 0 1 0 1 1 0 0 1 0 1 0 0 0 1 0 1 0 1 1 1 0 0 0 0 1 0 0 0 0 0 0 0 0 1 0 1\n",
      " 0 0 0 0 0 1 1 1 0 0 0 0 1 1 0 0 1 0 1 0 0 0 0 0 1 0 0 0 0 0 0 0 1 0 1 0 1\n",
      " 0 0 0 0 0 0 0 1 0 0 1 0 0 1 1 0 0 1 0 1 0 0 0 0 0 0 0 0 1 0 0 0 1 1 0 0 0\n",
      " 0 1 0 0 1 0 1 1 0 0 1 0 0 1 0 0 1 1 0 0 1 0 0 0 1 0 0 1 0 1 0 0 0 1 0 0 0\n",
      " 0 0 0 0 1 0 1 1 0 0 0 0 0 0 1 1 0 0 0 0 1 0 0 1 0 0 1 1 0 1 0 0 0 1 0 0 0\n",
      " 0 0 0 0 0 0 0 1 1 0 0 0 1 1 0 1 1 0 1 0 0 0 0 0 0 0 1 0 0 0 0 0 0 1 0 0 1\n",
      " 1 0 0 0 1 0 0 0 1 0 0 0 1 0 0 0 0 0 1 0 0 1 0 0 0 1 1 1 1 0 0 0 1 1 0 0 0\n",
      " 1 1 1 1 0 0 0 0 0 1 1 0 1 1 1 0 0 0 0 1 0 0 0 0 0 0 0 0 0 0 1 0 1 0 0 1 0\n",
      " 0 0 0 0 1 0 0 0 0 0 0 0 0 0 0 0 1 0 0 1 0 1 1 0 1 0 0 1 0 0 1 0 0 0 1 0 0\n",
      " 0 1 0 0 0 1 0 0 1 1 0 1 0 1 0 0 0 0 0 0 0 1 0 0 1 0 1 0 0 0 0 1 1 1 0 0 1\n",
      " 0 1 1 1 0 0 0 0 0 0 1 0 1 0 0 0 1 0 0 0 0 0 0 1 1 1 0 0 0 1 0 0 0 1 0 1 1\n",
      " 0 0 1 0 0 1 0 1]\n"
     ]
    }
   ],
   "source": [
    "# 结果预测\n",
    "y_predict = model1.predict(x)\n",
    "print(y_predict)"
   ],
   "metadata": {
    "collapsed": false,
    "pycharm": {
     "name": "#%%\n"
    }
   }
  },
  {
   "cell_type": "code",
   "execution_count": 12,
   "outputs": [
    {
     "name": "stdout",
     "output_type": "stream",
     "text": [
      "0.9183333333333333\n"
     ]
    }
   ],
   "source": [
    "# 模型评估\n",
    "from sklearn.metrics import accuracy_score\n",
    "accuracy = accuracy_score(y,y_predict)\n",
    "print(accuracy)"
   ],
   "metadata": {
    "collapsed": false,
    "pycharm": {
     "name": "#%%\n"
    }
   }
  },
  {
   "cell_type": "code",
   "execution_count": 13,
   "outputs": [
    {
     "name": "stdout",
     "output_type": "stream",
     "text": [
      "[[ 1.61220139  0.09768458 -0.7354873  ...  0.26204583  2.01357116\n",
      "   0.04951422]\n",
      " [-0.51645181 -0.20789804 -0.16980036 ... -0.79351368 -0.48113519\n",
      "  -0.72549099]\n",
      " [-0.82054513 -0.4829224  -2.20627333 ...  1.53380426 -0.86446057\n",
      "   0.04951422]\n",
      " ...\n",
      " [ 1.00401476  1.99229683  0.84843612 ...  0.54183268 -0.33275117\n",
      "   0.73840774]\n",
      " [ 0.09173482 -0.26901457 -0.16980036 ...  0.08399964  0.02584355\n",
      "  -0.29493254]\n",
      " [-1.12463844  0.55605851 -1.6405864  ...  1.50836909  5.642797\n",
      "   0.04951422]]\n"
     ]
    }
   ],
   "source": [
    "# 数据标准化处理\n",
    "from sklearn.preprocessing import StandardScaler\n",
    "x_norm = StandardScaler().fit_transform(x)\n",
    "print(x_norm)"
   ],
   "metadata": {
    "collapsed": false,
    "pycharm": {
     "name": "#%%\n"
    }
   }
  },
  {
   "cell_type": "code",
   "execution_count": 14,
   "outputs": [
    {
     "name": "stdout",
     "output_type": "stream",
     "text": [
      "118.80333333333333 32.75167847546886\n",
      "1.865174681370263e-16 0.9999999999999998\n"
     ]
    }
   ],
   "source": [
    "# 计算均值标准化\n",
    "x1_mean = x.loc[:,'glucose'].mean()\n",
    "x1_norm_mean = x_norm[:,1].mean()\n",
    "x1_sigma = x.loc[:,'glucose'].std()\n",
    "x1_norm_sigma = x_norm[:,1].std()\n",
    "print(x1_mean,x1_sigma)\n",
    "print(x1_norm_mean,x1_norm_sigma)"
   ],
   "metadata": {
    "collapsed": false,
    "pycharm": {
     "name": "#%%\n"
    }
   }
  },
  {
   "cell_type": "code",
   "execution_count": 16,
   "outputs": [
    {
     "data": {
      "text/plain": "<Figure size 864x360 with 2 Axes>",
      "image/png": "[encoded data removed]"
     },
     "metadata": {
      "needs_background": "light"
     },
     "output_type": "display_data"
    }
   ],
   "source": [
    "# 可视化\n",
    "from matplotlib import pyplot as plt\n",
    "fig1 = plt.figure(figsize=(12,5))\n",
    "fig1_1 = plt.subplot(121)\n",
    "plt.hist(x.loc[:,'glucose'],bins=100)\n",
    "fig1_2 = plt.subplot(122)\n",
    "plt.hist(x_norm[:,1],bins=100)\n",
    "plt.show()"
   ],
   "metadata": {
    "collapsed": false,
    "pycharm": {
     "name": "#%%\n"
    }
   }
  },
  {
   "cell_type": "code",
   "execution_count": 20,
   "outputs": [
    {
     "name": "stdout",
     "output_type": "stream",
     "text": [
      "[2.15669029 1.74035262 1.03817655 0.87890467 0.75186028 0.61865346\n",
      " 0.42446137 0.40425636]\n",
      "[0.26913698 0.2171815  0.12955578 0.10967998 0.0938259  0.0772028\n",
      " 0.05296924 0.05044782]\n",
      "1.0\n"
     ]
    }
   ],
   "source": [
    "# 主成分 PCA分析\n",
    "from sklearn.decomposition import PCA\n",
    "# 维度不变\n",
    "pca = PCA(n_components=8)\n",
    "x_pca = pca.fit_transform(x_norm)\n",
    "# 计算分析后各成分的方差以及方差比例\n",
    "var = pca.explained_variance_\n",
    "var_ratio = pca.explained_variance_ratio_\n",
    "print(var)\n",
    "print(var_ratio)\n",
    "print(sum(var_ratio))"
   ],
   "metadata": {
    "collapsed": false,
    "pycharm": {
     "name": "#%%\n"
    }
   }
  },
  {
   "cell_type": "code",
   "execution_count": 21,
   "outputs": [
    {
     "data": {
      "text/plain": "<Figure size 720x360 with 1 Axes>",
      "image/png": "[encoded data removed]"
     },
     "metadata": {
      "needs_background": "light"
     },
     "output_type": "display_data"
    }
   ],
   "source": [
    "# 方差比例可视化\n",
    "fig2 = plt.figure(figsize=(10,5))\n",
    "plt.bar([1,2,3,4,5,6,7,8],var_ratio)\n",
    "plt.show()"
   ],
   "metadata": {
    "collapsed": false,
    "pycharm": {
     "name": "#%%\n"
    }
   }
  },
  {
   "cell_type": "code",
   "execution_count": 22,
   "outputs": [
    {
     "name": "stdout",
     "output_type": "stream",
     "text": [
      "(600, 2) (600, 8)\n",
      "[2.15669029 1.74035262]\n",
      "[0.26913698 0.2171815 ]\n",
      "0.4863184794787815\n"
     ]
    }
   ],
   "source": [
    "# 数据降维到2维\n",
    "pca = PCA(n_components=2)\n",
    "x_pca = pca.fit_transform(x_norm)\n",
    "print(x_pca.shape,x_norm.shape)\n",
    "# 计算分析后各成分的方差以及方差比例\n",
    "var2 = pca.explained_variance_\n",
    "var_ratio2 = pca.explained_variance_ratio_\n",
    "print(var2)\n",
    "print(var_ratio2)\n",
    "print(sum(var_ratio2))"
   ],
   "metadata": {
    "collapsed": false,
    "pycharm": {
     "name": "#%%\n"
    }
   }
  },
  {
   "cell_type": "code",
   "execution_count": 27,
   "outputs": [
    {
     "data": {
      "text/plain": "<Figure size 432x288 with 1 Axes>",
      "image/png": "[encoded data removed]"
     },
     "metadata": {
      "needs_background": "light"
     },
     "output_type": "display_data"
    }
   ],
   "source": [
    "# 方差比例可视化\n",
    "fig3 = plt.figure()\n",
    "plt.scatter(x_pca[:,0][y==0],x_pca[:,1][y==0],marker='x',label='negative')\n",
    "plt.scatter(x_pca[:,0][y==1],x_pca[:,1][y==1],marker='*',label='positive')\n",
    "plt.legend()\n",
    "plt.show()"
   ],
   "metadata": {
    "collapsed": false,
    "pycharm": {
     "name": "#%%\n"
    }
   }
  },
  {
   "cell_type": "code",
   "execution_count": 28,
   "outputs": [
    {
     "data": {
      "text/plain": "LogisticRegression()"
     },
     "execution_count": 28,
     "metadata": {},
     "output_type": "execute_result"
    }
   ],
   "source": [
    "# 降维后的模型建立与训练\n",
    "model2 = LogisticRegression()\n",
    "model2.fit(x_pca,y)"
   ],
   "metadata": {
    "collapsed": false,
    "pycharm": {
     "name": "#%%\n"
    }
   }
  },
  {
   "cell_type": "code",
   "execution_count": 30,
   "outputs": [
    {
     "name": "stdout",
     "output_type": "stream",
     "text": [
      "0.8766666666666667\n"
     ]
    }
   ],
   "source": [
    "# 模型预测\n",
    "y_predict_pca = model2.predict(x_pca)\n",
    "accuracy_pca = accuracy_score(y,y_predict_pca)\n",
    "print(accuracy_pca)"
   ],
   "metadata": {
    "collapsed": false,
    "pycharm": {
     "name": "#%%\n"
    }
   }
  },
  {
   "cell_type": "code",
   "execution_count": null,
   "outputs": [],
   "source": [],
   "metadata": {
    "collapsed": false,
    "pycharm": {
     "name": "#%%\n"
    }
   }
  }
 ],
 "metadata": {
  "kernelspec": {
   "name": "pycharm-d3146284",
   "language": "python",
   "display_name": "PyCharm (Python3 AI实战)"
  },
  "language_info": {
   "codemirror_mode": {
    "name": "ipython",
    "version": 2
   },
   "file_extension": ".py",
   "mimetype": "text/x-python",
   "name": "python",
   "nbconvert_exporter": "python",
   "pygments_lexer": "ipython2",
   "version": "2.7.6"
  }
 },
 "nbformat": 4,
 "nbformat_minor": 0
}